{
 "cells": [
  {
   "cell_type": "code",
   "execution_count": 1,
   "metadata": {},
   "outputs": [],
   "source": [
    "import pandas as pd\n",
    "import numpy as np\n",
    "import matplotlib.pyplot as plt"
   ]
  },
  {
   "cell_type": "code",
   "execution_count": 30,
   "metadata": {},
   "outputs": [],
   "source": [
    "perf_train= pd.read_csv('trainperf.csv')\n",
    "perf_test= pd.read_csv('testperf.csv')"
   ]
  },
  {
   "cell_type": "code",
   "execution_count": 31,
   "metadata": {},
   "outputs": [],
   "source": [
    "prev_train= pd.read_csv('trainprevloans.csv')\n",
    "prev_test= pd.read_csv('testprevloans.csv')"
   ]
  },
  {
   "cell_type": "code",
   "execution_count": 32,
   "metadata": {},
   "outputs": [],
   "source": [
    "perf_train['referredby']= perf_train['referredby'].fillna(value='no one')\n",
    "\n",
    "perf_test['referredby']= perf_test['referredby'].fillna(value='no one')"
   ]
  },
  {
   "cell_type": "code",
   "execution_count": 33,
   "metadata": {},
   "outputs": [],
   "source": [
    "def days(row):\n",
    "    row= str(row)\n",
    "    return int(row[:row.index(' ')])"
   ]
  },
  {
   "cell_type": "code",
   "execution_count": 34,
   "metadata": {},
   "outputs": [],
   "source": [
    "def pay_rate(df):\n",
    "    day= (pd.to_datetime(df['closeddate'])-pd.to_datetime(df['approveddate'])).apply(days)\n",
    "    return df['totaldue']/day"
   ]
  },
  {
   "cell_type": "code",
   "execution_count": 35,
   "metadata": {},
   "outputs": [],
   "source": [
    "prev_train['pay_rate']= pay_rate(prev_train)\n",
    "prev_test['pay_rate']= pay_rate(prev_test)"
   ]
  },
  {
   "cell_type": "code",
   "execution_count": 36,
   "metadata": {},
   "outputs": [],
   "source": [
    "avg_train=prev_train[['customerid', 'pay_rate']].groupby(by='customerid', as_index=False).mean()\n",
    "avg_test=prev_test[['customerid', 'pay_rate']].groupby(by='customerid', as_index=False).mean()"
   ]
  },
  {
   "cell_type": "code",
   "execution_count": 37,
   "metadata": {},
   "outputs": [],
   "source": [
    "all_train= perf_train.merge(avg_train, on='customerid', how='left')\n",
    "all_test= perf_test.merge(avg_test, on='customerid', how='left')"
   ]
  },
  {
   "cell_type": "code",
   "execution_count": 38,
   "metadata": {},
   "outputs": [],
   "source": [
    "all_train['pay_rate'].replace([np.inf, -np.inf, np.nan], 0, inplace=True)\n",
    "all_test['pay_rate'].replace([np.inf, -np.inf, np.nan], 0, inplace=True)"
   ]
  },
  {
   "cell_type": "code",
   "execution_count": 39,
   "metadata": {},
   "outputs": [],
   "source": [
    "useless= ['customerid','systemloanid', 'approveddate', 'creationdate']\n",
    "all_train.drop(useless, axis=1, inplace=True)\n",
    "all_test.drop(useless, axis=1, inplace=True)"
   ]
  },
  {
   "cell_type": "code",
   "execution_count": 40,
   "metadata": {},
   "outputs": [],
   "source": [
    "X= all_train.drop(['good_bad_flag'], axis=1)\n",
    "Y= all_train['good_bad_flag']"
   ]
  },
  {
   "cell_type": "code",
   "execution_count": 41,
   "metadata": {},
   "outputs": [
    {
     "data": {
      "text/html": [
       "<div>\n",
       "<style scoped>\n",
       "    .dataframe tbody tr th:only-of-type {\n",
       "        vertical-align: middle;\n",
       "    }\n",
       "\n",
       "    .dataframe tbody tr th {\n",
       "        vertical-align: top;\n",
       "    }\n",
       "\n",
       "    .dataframe thead th {\n",
       "        text-align: right;\n",
       "    }\n",
       "</style>\n",
       "<table border=\"1\" class=\"dataframe\">\n",
       "  <thead>\n",
       "    <tr style=\"text-align: right;\">\n",
       "      <th></th>\n",
       "      <th>loannumber</th>\n",
       "      <th>loanamount</th>\n",
       "      <th>totaldue</th>\n",
       "      <th>termdays</th>\n",
       "      <th>referredby</th>\n",
       "      <th>pay_rate</th>\n",
       "    </tr>\n",
       "  </thead>\n",
       "  <tbody>\n",
       "    <tr>\n",
       "      <th>0</th>\n",
       "      <td>12</td>\n",
       "      <td>30000.0</td>\n",
       "      <td>34500.0</td>\n",
       "      <td>30</td>\n",
       "      <td>no one</td>\n",
       "      <td>2988.835851</td>\n",
       "    </tr>\n",
       "    <tr>\n",
       "      <th>1</th>\n",
       "      <td>2</td>\n",
       "      <td>15000.0</td>\n",
       "      <td>17250.0</td>\n",
       "      <td>30</td>\n",
       "      <td>no one</td>\n",
       "      <td>0.000000</td>\n",
       "    </tr>\n",
       "    <tr>\n",
       "      <th>2</th>\n",
       "      <td>7</td>\n",
       "      <td>20000.0</td>\n",
       "      <td>22250.0</td>\n",
       "      <td>15</td>\n",
       "      <td>no one</td>\n",
       "      <td>1105.846561</td>\n",
       "    </tr>\n",
       "    <tr>\n",
       "      <th>3</th>\n",
       "      <td>3</td>\n",
       "      <td>10000.0</td>\n",
       "      <td>11500.0</td>\n",
       "      <td>15</td>\n",
       "      <td>no one</td>\n",
       "      <td>393.518519</td>\n",
       "    </tr>\n",
       "    <tr>\n",
       "      <th>4</th>\n",
       "      <td>9</td>\n",
       "      <td>40000.0</td>\n",
       "      <td>44000.0</td>\n",
       "      <td>30</td>\n",
       "      <td>no one</td>\n",
       "      <td>850.269865</td>\n",
       "    </tr>\n",
       "    <tr>\n",
       "      <th>...</th>\n",
       "      <td>...</td>\n",
       "      <td>...</td>\n",
       "      <td>...</td>\n",
       "      <td>...</td>\n",
       "      <td>...</td>\n",
       "      <td>...</td>\n",
       "    </tr>\n",
       "    <tr>\n",
       "      <th>4363</th>\n",
       "      <td>2</td>\n",
       "      <td>10000.0</td>\n",
       "      <td>13000.0</td>\n",
       "      <td>30</td>\n",
       "      <td>no one</td>\n",
       "      <td>361.111111</td>\n",
       "    </tr>\n",
       "    <tr>\n",
       "      <th>4364</th>\n",
       "      <td>2</td>\n",
       "      <td>10000.0</td>\n",
       "      <td>13000.0</td>\n",
       "      <td>30</td>\n",
       "      <td>no one</td>\n",
       "      <td>500.000000</td>\n",
       "    </tr>\n",
       "    <tr>\n",
       "      <th>4365</th>\n",
       "      <td>3</td>\n",
       "      <td>10000.0</td>\n",
       "      <td>11500.0</td>\n",
       "      <td>15</td>\n",
       "      <td>no one</td>\n",
       "      <td>596.198157</td>\n",
       "    </tr>\n",
       "    <tr>\n",
       "      <th>4366</th>\n",
       "      <td>2</td>\n",
       "      <td>10000.0</td>\n",
       "      <td>13000.0</td>\n",
       "      <td>30</td>\n",
       "      <td>8a858eda5c8863ff015c9dead65807bb</td>\n",
       "      <td>433.333333</td>\n",
       "    </tr>\n",
       "    <tr>\n",
       "      <th>4367</th>\n",
       "      <td>8</td>\n",
       "      <td>30000.0</td>\n",
       "      <td>34500.0</td>\n",
       "      <td>30</td>\n",
       "      <td>no one</td>\n",
       "      <td>865.802593</td>\n",
       "    </tr>\n",
       "  </tbody>\n",
       "</table>\n",
       "<p>4368 rows × 6 columns</p>\n",
       "</div>"
      ],
      "text/plain": [
       "      loannumber  loanamount  totaldue  termdays  \\\n",
       "0             12     30000.0   34500.0        30   \n",
       "1              2     15000.0   17250.0        30   \n",
       "2              7     20000.0   22250.0        15   \n",
       "3              3     10000.0   11500.0        15   \n",
       "4              9     40000.0   44000.0        30   \n",
       "...          ...         ...       ...       ...   \n",
       "4363           2     10000.0   13000.0        30   \n",
       "4364           2     10000.0   13000.0        30   \n",
       "4365           3     10000.0   11500.0        15   \n",
       "4366           2     10000.0   13000.0        30   \n",
       "4367           8     30000.0   34500.0        30   \n",
       "\n",
       "                            referredby     pay_rate  \n",
       "0                               no one  2988.835851  \n",
       "1                               no one     0.000000  \n",
       "2                               no one  1105.846561  \n",
       "3                               no one   393.518519  \n",
       "4                               no one   850.269865  \n",
       "...                                ...          ...  \n",
       "4363                            no one   361.111111  \n",
       "4364                            no one   500.000000  \n",
       "4365                            no one   596.198157  \n",
       "4366  8a858eda5c8863ff015c9dead65807bb   433.333333  \n",
       "4367                            no one   865.802593  \n",
       "\n",
       "[4368 rows x 6 columns]"
      ]
     },
     "execution_count": 41,
     "metadata": {},
     "output_type": "execute_result"
    }
   ],
   "source": [
    "X"
   ]
  },
  {
   "cell_type": "code",
   "execution_count": 42,
   "metadata": {},
   "outputs": [],
   "source": [
    "from sklearn.model_selection import train_test_split"
   ]
  },
  {
   "cell_type": "code",
   "execution_count": 43,
   "metadata": {},
   "outputs": [],
   "source": [
    "x_train,x_test ,y_train, y_test= train_test_split(X,Y, test_size=0.1, random_state=0)"
   ]
  },
  {
   "cell_type": "code",
   "execution_count": 44,
   "metadata": {},
   "outputs": [],
   "source": [
    "from sklearn.compose import make_column_selector as selector\n",
    "\n",
    "numerical_columns_selector = selector(dtype_exclude=object)\n",
    "categorical_columns_selector = selector(dtype_include=object)\n",
    "\n",
    "numerical_columns = numerical_columns_selector(X)\n",
    "categorical_columns = categorical_columns_selector(X)\n",
    "\n"
   ]
  },
  {
   "cell_type": "code",
   "execution_count": 45,
   "metadata": {},
   "outputs": [],
   "source": [
    "from sklearn.experimental import enable_hist_gradient_boosting\n",
    "from sklearn.ensemble import HistGradientBoostingClassifier\n",
    "from sklearn.preprocessing import OrdinalEncoder, StandardScaler, RobustScaler, OneHotEncoder\n",
    "from sklearn.pipeline import Pipeline\n",
    "from sklearn.compose import ColumnTransformer\n",
    "\n",
    "numerical_preprocessor = RobustScaler()\n",
    "\n",
    "\n",
    "categorical_preprocessor= OneHotEncoder(handle_unknown=\"ignore\")\n",
    "\n",
    "preprocessor = ColumnTransformer([\n",
    "    ('ordinal-encoder', categorical_preprocessor, categorical_columns),\n",
    "    ('standard-scaler', numerical_preprocessor, numerical_columns)])"
   ]
  },
  {
   "cell_type": "code",
   "execution_count": 46,
   "metadata": {},
   "outputs": [],
   "source": [
    "from lightgbm import LGBMClassifier\n",
    "from catboost import CatBoostClassifier\n",
    "from sklearn.preprocessing import LabelEncoder, StandardScaler\n",
    "from sklearn.linear_model import LogisticRegression\n",
    "from sklearn.model_selection import cross_validate, StratifiedShuffleSplit, cross_val_score\n",
    "from xgboost import XGBClassifier\n",
    "from imblearn.pipeline import Pipeline\n",
    "from imblearn.over_sampling import SMOTE\n",
    "from sklearn.ensemble import BaggingClassifier,RandomForestClassifier, ExtraTreesClassifier, AdaBoostClassifier, GradientBoostingClassifier, VotingClassifier"
   ]
  },
  {
   "cell_type": "code",
   "execution_count": 47,
   "metadata": {},
   "outputs": [],
   "source": [
    "def crs_val(algo):\n",
    "  # run block of code and catch warnings\n",
    "  import warnings\n",
    "  with warnings.catch_warnings():\n",
    "    warnings.filterwarnings(\"ignore\")\n",
    "    cv= StratifiedShuffleSplit(n_splits=10, random_state=42, test_size=0.2)\n",
    "    model= Pipeline(steps=[('scale', preprocessor), ('sample', SMOTE(random_state=42)), ('model', algo)])\n",
    "    result= cross_validate(model, x_train, y_train, cv=cv, scoring='accuracy', return_train_score=False)\n",
    "    #print(result)\n",
    "    return result['test_score']"
   ]
  },
  {
   "cell_type": "code",
   "execution_count": 48,
   "metadata": {},
   "outputs": [
    {
     "name": "stdout",
     "output_type": "stream",
     "text": [
      "LogisticRegression: \n",
      " 0.5212198221092756  +/-  0.015424641327058236\n",
      "RandomForestClassifier: \n",
      " 0.6842439644218551  +/-  0.0072827089610709534\n",
      "BaggingClassifier: \n",
      " 0.5430749682337993  +/-  0.012835432070317048\n",
      "LGBMClassifier: \n",
      " 0.6907242693773824  +/-  0.014185805069329448\n",
      "ExtraTreesClassifier: \n",
      " 0.6799237611181702  +/-  0.009010856747899072\n"
     ]
    }
   ],
   "source": [
    "algos= {'LogisticRegression':LogisticRegression(max_iter=2000),\n",
    "       'RandomForestClassifier': RandomForestClassifier(random_state=0),\n",
    "       'BaggingClassifier':AdaBoostClassifier(base_estimator=LogisticRegression(),random_state=0),\n",
    "       'LGBMClassifier': LGBMClassifier(random_state=0),\n",
    "       #'XGBClassifier': XGBClassifier(random_state=0),\n",
    "       'ExtraTreesClassifier': ExtraTreesClassifier(random_state=0)\n",
    "       }\n",
    "for alg in algos.keys():\n",
    "    score= crs_val(algos[alg])\n",
    "    print(alg+': \\n',score.mean(), ' +/- ',score.std())"
   ]
  },
  {
   "cell_type": "code",
   "execution_count": null,
   "metadata": {},
   "outputs": [],
   "source": []
  },
  {
   "cell_type": "code",
   "execution_count": null,
   "metadata": {},
   "outputs": [],
   "source": [
    "\"\"\" LogisticRegression: \n",
    " 0.5040660736975858  +/-  0.0321654704572391\n",
    "RandomForestClassifier: \n",
    " 0.6161372299872936  +/-  0.017601571294498478\n",
    "BaggingClassifier: \n",
    " 0.5318932655654385  +/-  0.02851578786673196\n",
    "LGBMClassifier: \n",
    " 0.6110546378653112  +/-  0.020936408642853007\n",
    "ExtraTreesClassifier: \n",
    " 0.6130876747141041  +/-  0.01759973665083138 \"\"\""
   ]
  },
  {
   "cell_type": "code",
   "execution_count": 98,
   "metadata": {},
   "outputs": [],
   "source": [
    "from scipy.stats import loguniform\n",
    "\n",
    "\n",
    "class loguniform_odd_int:\n",
    "    \"\"\"Integer valued version of the log-uniform distribution\"\"\"\n",
    "    def __init__(self, a, b):\n",
    "        self._distribution = loguniform(a, b//2)\n",
    "\n",
    "    def rvs(self, *args, **kwargs):\n",
    "        \"\"\"Random variable sample\"\"\"\n",
    "        return -1+ 2*self._distribution.rvs(*args, **kwargs).astype(int)\n",
    "from scipy.stats import loguniform\n",
    "\n",
    "\n",
    "class loguniform_int:\n",
    "    \"\"\"Integer valued version of the log-uniform distribution\"\"\"\n",
    "    def __init__(self, a, b):\n",
    "        self._distribution = loguniform(a, b)\n",
    "\n",
    "    def rvs(self, *args, **kwargs):\n",
    "        \"\"\"Random variable sample\"\"\"\n",
    "        return self._distribution.rvs(*args, **kwargs).astype(int)"
   ]
  },
  {
   "cell_type": "code",
   "execution_count": 99,
   "metadata": {},
   "outputs": [
    {
     "name": "stdout",
     "output_type": "stream",
     "text": [
      "2\n"
     ]
    }
   ],
   "source": [
    "print(loguniform_int(1, 10).rvs())"
   ]
  },
  {
   "cell_type": "code",
   "execution_count": 103,
   "metadata": {},
   "outputs": [
    {
     "data": {
      "text/plain": [
       "RandomizedSearchCV(cv=StratifiedShuffleSplit(n_splits=10, random_state=42, test_size=0.22,\n",
       "            train_size=None),\n",
       "                   estimator=Pipeline(steps=[('scale',\n",
       "                                              ColumnTransformer(transformers=[('ordinal-encoder',\n",
       "                                                                               OneHotEncoder(handle_unknown='ignore'),\n",
       "                                                                               ['referredby']),\n",
       "                                                                              ('standard-scaler',\n",
       "                                                                               RobustScaler(),\n",
       "                                                                               ['loannumber',\n",
       "                                                                                'loanamount',\n",
       "                                                                                'totaldue',\n",
       "                                                                                'termdays',\n",
       "                                                                                'pay_rate'])])),\n",
       "                                             ('sample', SMOTE(random_state=42)),\n",
       "                                             ('classifier',\n",
       "                                              LGBMClassifier(random_state=0))]),\n",
       "                   n_iter=20, n_jobs=-1,\n",
       "                   param_distributions={'classifier__n_estimators': <__main__.loguniform_int object at 0x000002C17DFE0D48>,\n",
       "                                        'sample__k_neighbors': <__main__.loguniform_odd_int object at 0x000002C10A279608>},\n",
       "                   random_state=0)"
      ]
     },
     "execution_count": 103,
     "metadata": {},
     "output_type": "execute_result"
    }
   ],
   "source": [
    "from sklearn.model_selection import GridSearchCV, RandomizedSearchCV\n",
    "model= Pipeline(steps=[('scale', preprocessor), ('sample', SMOTE(random_state=42, )), ('classifier', LGBMClassifier(random_state=0))])\n",
    "cv= StratifiedShuffleSplit(n_splits=10, random_state=42, test_size=0.22)\n",
    "param_grid = {\n",
    "    'classifier__n_estimators': loguniform_int(100,1000),\n",
    "    'sample__k_neighbors':loguniform_odd_int(1, 50)\n",
    "}\n",
    "model_grid_search = RandomizedSearchCV(\n",
    "    model, param_distributions=param_grid, n_jobs=-1, cv=cv, n_iter=20, random_state=0\n",
    ")\n",
    "model_grid_search.fit(x_train, y_train)"
   ]
  },
  {
   "cell_type": "code",
   "execution_count": 104,
   "metadata": {},
   "outputs": [
    {
     "data": {
      "text/html": [
       "<div>\n",
       "<style scoped>\n",
       "    .dataframe tbody tr th:only-of-type {\n",
       "        vertical-align: middle;\n",
       "    }\n",
       "\n",
       "    .dataframe tbody tr th {\n",
       "        vertical-align: top;\n",
       "    }\n",
       "\n",
       "    .dataframe thead th {\n",
       "        text-align: right;\n",
       "    }\n",
       "</style>\n",
       "<table border=\"1\" class=\"dataframe\">\n",
       "  <thead>\n",
       "    <tr style=\"text-align: right;\">\n",
       "      <th></th>\n",
       "      <th>param_classifier__n_estimators</th>\n",
       "      <th>param_sample__k_neighbors</th>\n",
       "      <th>mean_test_score</th>\n",
       "      <th>std_test_score</th>\n",
       "      <th>rank_test_score</th>\n",
       "    </tr>\n",
       "  </thead>\n",
       "  <tbody>\n",
       "    <tr>\n",
       "      <th>0</th>\n",
       "      <td>353</td>\n",
       "      <td>17</td>\n",
       "      <td>0.705896</td>\n",
       "      <td>0.012782</td>\n",
       "      <td>9</td>\n",
       "    </tr>\n",
       "    <tr>\n",
       "      <th>1</th>\n",
       "      <td>400</td>\n",
       "      <td>9</td>\n",
       "      <td>0.695260</td>\n",
       "      <td>0.015887</td>\n",
       "      <td>15</td>\n",
       "    </tr>\n",
       "    <tr>\n",
       "      <th>2</th>\n",
       "      <td>265</td>\n",
       "      <td>13</td>\n",
       "      <td>0.704740</td>\n",
       "      <td>0.018082</td>\n",
       "      <td>10</td>\n",
       "    </tr>\n",
       "    <tr>\n",
       "      <th>3</th>\n",
       "      <td>273</td>\n",
       "      <td>33</td>\n",
       "      <td>0.720116</td>\n",
       "      <td>0.010242</td>\n",
       "      <td>5</td>\n",
       "    </tr>\n",
       "    <tr>\n",
       "      <th>4</th>\n",
       "      <td>919</td>\n",
       "      <td>5</td>\n",
       "      <td>0.681734</td>\n",
       "      <td>0.014886</td>\n",
       "      <td>19</td>\n",
       "    </tr>\n",
       "    <tr>\n",
       "      <th>5</th>\n",
       "      <td>619</td>\n",
       "      <td>9</td>\n",
       "      <td>0.692139</td>\n",
       "      <td>0.014384</td>\n",
       "      <td>17</td>\n",
       "    </tr>\n",
       "    <tr>\n",
       "      <th>6</th>\n",
       "      <td>369</td>\n",
       "      <td>37</td>\n",
       "      <td>0.720347</td>\n",
       "      <td>0.009911</td>\n",
       "      <td>4</td>\n",
       "    </tr>\n",
       "    <tr>\n",
       "      <th>7</th>\n",
       "      <td>117</td>\n",
       "      <td>1</td>\n",
       "      <td>0.675029</td>\n",
       "      <td>0.016757</td>\n",
       "      <td>20</td>\n",
       "    </tr>\n",
       "    <tr>\n",
       "      <th>8</th>\n",
       "      <td>104</td>\n",
       "      <td>27</td>\n",
       "      <td>0.728208</td>\n",
       "      <td>0.013125</td>\n",
       "      <td>2</td>\n",
       "    </tr>\n",
       "    <tr>\n",
       "      <th>9</th>\n",
       "      <td>600</td>\n",
       "      <td>31</td>\n",
       "      <td>0.704509</td>\n",
       "      <td>0.019040</td>\n",
       "      <td>11</td>\n",
       "    </tr>\n",
       "    <tr>\n",
       "      <th>10</th>\n",
       "      <td>951</td>\n",
       "      <td>25</td>\n",
       "      <td>0.695376</td>\n",
       "      <td>0.011176</td>\n",
       "      <td>14</td>\n",
       "    </tr>\n",
       "    <tr>\n",
       "      <th>11</th>\n",
       "      <td>289</td>\n",
       "      <td>23</td>\n",
       "      <td>0.715376</td>\n",
       "      <td>0.015483</td>\n",
       "      <td>6</td>\n",
       "    </tr>\n",
       "    <tr>\n",
       "      <th>12</th>\n",
       "      <td>131</td>\n",
       "      <td>13</td>\n",
       "      <td>0.712023</td>\n",
       "      <td>0.015480</td>\n",
       "      <td>8</td>\n",
       "    </tr>\n",
       "    <tr>\n",
       "      <th>13</th>\n",
       "      <td>139</td>\n",
       "      <td>39</td>\n",
       "      <td>0.734913</td>\n",
       "      <td>0.012926</td>\n",
       "      <td>1</td>\n",
       "    </tr>\n",
       "    <tr>\n",
       "      <th>14</th>\n",
       "      <td>332</td>\n",
       "      <td>5</td>\n",
       "      <td>0.687630</td>\n",
       "      <td>0.011535</td>\n",
       "      <td>18</td>\n",
       "    </tr>\n",
       "    <tr>\n",
       "      <th>15</th>\n",
       "      <td>183</td>\n",
       "      <td>23</td>\n",
       "      <td>0.721965</td>\n",
       "      <td>0.015049</td>\n",
       "      <td>3</td>\n",
       "    </tr>\n",
       "    <tr>\n",
       "      <th>16</th>\n",
       "      <td>285</td>\n",
       "      <td>11</td>\n",
       "      <td>0.698613</td>\n",
       "      <td>0.014486</td>\n",
       "      <td>13</td>\n",
       "    </tr>\n",
       "    <tr>\n",
       "      <th>17</th>\n",
       "      <td>104</td>\n",
       "      <td>13</td>\n",
       "      <td>0.712139</td>\n",
       "      <td>0.012213</td>\n",
       "      <td>7</td>\n",
       "    </tr>\n",
       "    <tr>\n",
       "      <th>18</th>\n",
       "      <td>409</td>\n",
       "      <td>13</td>\n",
       "      <td>0.699306</td>\n",
       "      <td>0.016031</td>\n",
       "      <td>12</td>\n",
       "    </tr>\n",
       "    <tr>\n",
       "      <th>19</th>\n",
       "      <td>878</td>\n",
       "      <td>15</td>\n",
       "      <td>0.692254</td>\n",
       "      <td>0.018012</td>\n",
       "      <td>16</td>\n",
       "    </tr>\n",
       "  </tbody>\n",
       "</table>\n",
       "</div>"
      ],
      "text/plain": [
       "   param_classifier__n_estimators param_sample__k_neighbors  mean_test_score  \\\n",
       "0                             353                        17         0.705896   \n",
       "1                             400                         9         0.695260   \n",
       "2                             265                        13         0.704740   \n",
       "3                             273                        33         0.720116   \n",
       "4                             919                         5         0.681734   \n",
       "5                             619                         9         0.692139   \n",
       "6                             369                        37         0.720347   \n",
       "7                             117                         1         0.675029   \n",
       "8                             104                        27         0.728208   \n",
       "9                             600                        31         0.704509   \n",
       "10                            951                        25         0.695376   \n",
       "11                            289                        23         0.715376   \n",
       "12                            131                        13         0.712023   \n",
       "13                            139                        39         0.734913   \n",
       "14                            332                         5         0.687630   \n",
       "15                            183                        23         0.721965   \n",
       "16                            285                        11         0.698613   \n",
       "17                            104                        13         0.712139   \n",
       "18                            409                        13         0.699306   \n",
       "19                            878                        15         0.692254   \n",
       "\n",
       "    std_test_score  rank_test_score  \n",
       "0         0.012782                9  \n",
       "1         0.015887               15  \n",
       "2         0.018082               10  \n",
       "3         0.010242                5  \n",
       "4         0.014886               19  \n",
       "5         0.014384               17  \n",
       "6         0.009911                4  \n",
       "7         0.016757               20  \n",
       "8         0.013125                2  \n",
       "9         0.019040               11  \n",
       "10        0.011176               14  \n",
       "11        0.015483                6  \n",
       "12        0.015480                8  \n",
       "13        0.012926                1  \n",
       "14        0.011535               18  \n",
       "15        0.015049                3  \n",
       "16        0.014486               13  \n",
       "17        0.012213                7  \n",
       "18        0.016031               12  \n",
       "19        0.018012               16  "
      ]
     },
     "execution_count": 104,
     "metadata": {},
     "output_type": "execute_result"
    }
   ],
   "source": [
    "cv_results = pd.DataFrame(model_grid_search.cv_results_)\n",
    "cv_results[[\n",
    "    \"param_classifier__n_estimators\",\n",
    "    \"param_sample__k_neighbors\",\n",
    "    \"mean_test_score\",\n",
    "    \"std_test_score\",\n",
    "    \"rank_test_score\"\n",
    "]]"
   ]
  },
  {
   "cell_type": "code",
   "execution_count": 105,
   "metadata": {},
   "outputs": [],
   "source": [
    "cv_results = cross_validate(\n",
    "    model_grid_search, X, Y, cv=cv, n_jobs=-1, return_estimator=True\n",
    ")"
   ]
  },
  {
   "cell_type": "code",
   "execution_count": 106,
   "metadata": {},
   "outputs": [
    {
     "name": "stdout",
     "output_type": "stream",
     "text": [
      "Generalization score with hyperparameters tuning:\n",
      "0.734 +/- 0.007\n"
     ]
    }
   ],
   "source": [
    "cv_results = pd.DataFrame(cv_results)\n",
    "cv_test_scores = cv_results['test_score']\n",
    "print(\n",
    "    \"Generalization score with hyperparameters tuning:\\n\"\n",
    "    f\"{cv_test_scores.mean():.3f} +/- {cv_test_scores.std():.3f}\"\n",
    ")"
   ]
  },
  {
   "cell_type": "code",
   "execution_count": 107,
   "metadata": {},
   "outputs": [
    {
     "name": "stdout",
     "output_type": "stream",
     "text": [
      "Best hyperparameters for fold #1:\n",
      "{'classifier__n_estimators': 139, 'sample__k_neighbors': 39}\n",
      "Best hyperparameters for fold #2:\n",
      "{'classifier__n_estimators': 139, 'sample__k_neighbors': 39}\n",
      "Best hyperparameters for fold #3:\n",
      "{'classifier__n_estimators': 104, 'sample__k_neighbors': 27}\n",
      "Best hyperparameters for fold #4:\n",
      "{'classifier__n_estimators': 104, 'sample__k_neighbors': 27}\n",
      "Best hyperparameters for fold #5:\n",
      "{'classifier__n_estimators': 139, 'sample__k_neighbors': 39}\n",
      "Best hyperparameters for fold #6:\n",
      "{'classifier__n_estimators': 139, 'sample__k_neighbors': 39}\n",
      "Best hyperparameters for fold #7:\n",
      "{'classifier__n_estimators': 104, 'sample__k_neighbors': 27}\n",
      "Best hyperparameters for fold #8:\n",
      "{'classifier__n_estimators': 139, 'sample__k_neighbors': 39}\n",
      "Best hyperparameters for fold #9:\n",
      "{'classifier__n_estimators': 139, 'sample__k_neighbors': 39}\n",
      "Best hyperparameters for fold #10:\n",
      "{'classifier__n_estimators': 104, 'sample__k_neighbors': 27}\n"
     ]
    }
   ],
   "source": [
    "for cv_fold, estimator_in_fold in enumerate(cv_results[\"estimator\"]):\n",
    "    print(\n",
    "        f\"Best hyperparameters for fold #{cv_fold + 1}:\\n\"\n",
    "        f\"{estimator_in_fold.best_params_}\"\n",
    "    )"
   ]
  },
  {
   "cell_type": "code",
   "execution_count": 109,
   "metadata": {},
   "outputs": [
    {
     "data": {
      "text/html": [
       "<div>\n",
       "<style scoped>\n",
       "    .dataframe tbody tr th:only-of-type {\n",
       "        vertical-align: middle;\n",
       "    }\n",
       "\n",
       "    .dataframe tbody tr th {\n",
       "        vertical-align: top;\n",
       "    }\n",
       "\n",
       "    .dataframe thead th {\n",
       "        text-align: right;\n",
       "    }\n",
       "</style>\n",
       "<table border=\"1\" class=\"dataframe\">\n",
       "  <thead>\n",
       "    <tr style=\"text-align: right;\">\n",
       "      <th></th>\n",
       "      <th>fit_time</th>\n",
       "      <th>score_time</th>\n",
       "      <th>estimator</th>\n",
       "      <th>test_score</th>\n",
       "    </tr>\n",
       "  </thead>\n",
       "  <tbody>\n",
       "    <tr>\n",
       "      <th>0</th>\n",
       "      <td>302.774248</td>\n",
       "      <td>0.132998</td>\n",
       "      <td>RandomizedSearchCV(cv=StratifiedShuffleSplit(n...</td>\n",
       "      <td>0.745057</td>\n",
       "    </tr>\n",
       "    <tr>\n",
       "      <th>1</th>\n",
       "      <td>302.926252</td>\n",
       "      <td>0.064000</td>\n",
       "      <td>RandomizedSearchCV(cv=StratifiedShuffleSplit(n...</td>\n",
       "      <td>0.744017</td>\n",
       "    </tr>\n",
       "    <tr>\n",
       "      <th>5</th>\n",
       "      <td>314.497053</td>\n",
       "      <td>0.111000</td>\n",
       "      <td>RandomizedSearchCV(cv=StratifiedShuffleSplit(n...</td>\n",
       "      <td>0.740895</td>\n",
       "    </tr>\n",
       "    <tr>\n",
       "      <th>7</th>\n",
       "      <td>316.034895</td>\n",
       "      <td>0.147999</td>\n",
       "      <td>RandomizedSearchCV(cv=StratifiedShuffleSplit(n...</td>\n",
       "      <td>0.735692</td>\n",
       "    </tr>\n",
       "    <tr>\n",
       "      <th>9</th>\n",
       "      <td>151.485552</td>\n",
       "      <td>0.028023</td>\n",
       "      <td>RandomizedSearchCV(cv=StratifiedShuffleSplit(n...</td>\n",
       "      <td>0.734651</td>\n",
       "    </tr>\n",
       "    <tr>\n",
       "      <th>2</th>\n",
       "      <td>304.222065</td>\n",
       "      <td>0.143663</td>\n",
       "      <td>RandomizedSearchCV(cv=StratifiedShuffleSplit(n...</td>\n",
       "      <td>0.733611</td>\n",
       "    </tr>\n",
       "    <tr>\n",
       "      <th>3</th>\n",
       "      <td>303.022250</td>\n",
       "      <td>0.059005</td>\n",
       "      <td>RandomizedSearchCV(cv=StratifiedShuffleSplit(n...</td>\n",
       "      <td>0.727367</td>\n",
       "    </tr>\n",
       "    <tr>\n",
       "      <th>4</th>\n",
       "      <td>314.801060</td>\n",
       "      <td>0.079998</td>\n",
       "      <td>RandomizedSearchCV(cv=StratifiedShuffleSplit(n...</td>\n",
       "      <td>0.727367</td>\n",
       "    </tr>\n",
       "    <tr>\n",
       "      <th>6</th>\n",
       "      <td>313.922063</td>\n",
       "      <td>0.056996</td>\n",
       "      <td>RandomizedSearchCV(cv=StratifiedShuffleSplit(n...</td>\n",
       "      <td>0.727367</td>\n",
       "    </tr>\n",
       "    <tr>\n",
       "      <th>8</th>\n",
       "      <td>151.071981</td>\n",
       "      <td>0.055772</td>\n",
       "      <td>RandomizedSearchCV(cv=StratifiedShuffleSplit(n...</td>\n",
       "      <td>0.726327</td>\n",
       "    </tr>\n",
       "  </tbody>\n",
       "</table>\n",
       "</div>"
      ],
      "text/plain": [
       "     fit_time  score_time                                          estimator  \\\n",
       "0  302.774248    0.132998  RandomizedSearchCV(cv=StratifiedShuffleSplit(n...   \n",
       "1  302.926252    0.064000  RandomizedSearchCV(cv=StratifiedShuffleSplit(n...   \n",
       "5  314.497053    0.111000  RandomizedSearchCV(cv=StratifiedShuffleSplit(n...   \n",
       "7  316.034895    0.147999  RandomizedSearchCV(cv=StratifiedShuffleSplit(n...   \n",
       "9  151.485552    0.028023  RandomizedSearchCV(cv=StratifiedShuffleSplit(n...   \n",
       "2  304.222065    0.143663  RandomizedSearchCV(cv=StratifiedShuffleSplit(n...   \n",
       "3  303.022250    0.059005  RandomizedSearchCV(cv=StratifiedShuffleSplit(n...   \n",
       "4  314.801060    0.079998  RandomizedSearchCV(cv=StratifiedShuffleSplit(n...   \n",
       "6  313.922063    0.056996  RandomizedSearchCV(cv=StratifiedShuffleSplit(n...   \n",
       "8  151.071981    0.055772  RandomizedSearchCV(cv=StratifiedShuffleSplit(n...   \n",
       "\n",
       "   test_score  \n",
       "0    0.745057  \n",
       "1    0.744017  \n",
       "5    0.740895  \n",
       "7    0.735692  \n",
       "9    0.734651  \n",
       "2    0.733611  \n",
       "3    0.727367  \n",
       "4    0.727367  \n",
       "6    0.727367  \n",
       "8    0.726327  "
      ]
     },
     "execution_count": 109,
     "metadata": {},
     "output_type": "execute_result"
    }
   ],
   "source": [
    "models=cv_results.sort_values(by='test_score', ascending=False)\n",
    "models"
   ]
  },
  {
   "cell_type": "code",
   "execution_count": 110,
   "metadata": {},
   "outputs": [],
   "source": [
    "pred=models[\"estimator\"][0].predict(all_test)"
   ]
  },
  {
   "cell_type": "code",
   "execution_count": 111,
   "metadata": {},
   "outputs": [
    {
     "data": {
      "text/plain": [
       "(array([1177.,    0.,    0.,    0.,    0.,    0.,    0.,    0.,    0.,\n",
       "         273.]),\n",
       " array([0. , 0.1, 0.2, 0.3, 0.4, 0.5, 0.6, 0.7, 0.8, 0.9, 1. ]),\n",
       " <BarContainer object of 10 artists>)"
      ]
     },
     "execution_count": 111,
     "metadata": {},
     "output_type": "execute_result"
    },
    {
     "data": {
      "image/png": "[encoded data removed]",
      "text/plain": [
       "<Figure size 432x288 with 1 Axes>"
      ]
     },
     "metadata": {
      "needs_background": "light"
     },
     "output_type": "display_data"
    }
   ],
   "source": [
    "plt.hist(pred)"
   ]
  },
  {
   "cell_type": "code",
   "execution_count": 112,
   "metadata": {},
   "outputs": [
    {
     "name": "stdout",
     "output_type": "stream",
     "text": [
      "0323080647\n"
     ]
    }
   ],
   "source": [
    "def submit():\n",
    "    import datetime\n",
    "    sub= pd.read_csv('SampleSubmission.csv')\n",
    "    sub['good_bad_flag']=pred\n",
    "    moment=datetime.datetime.now().strftime('%m%d%H%M%S')\n",
    "    #print(moment)\n",
    "    sub.to_csv(moment+'.csv', index=False)\n",
    "    print(moment)\n",
    "submit()"
   ]
  },
  {
   "cell_type": "code",
   "execution_count": null,
   "metadata": {},
   "outputs": [],
   "source": []
  }
 ],
 "metadata": {
  "interpreter": {
   "hash": "669c57335d814790a0a8ea20dc08c100929a5b6e7176d5937f3f567eb2cddf61"
  },
  "kernelspec": {
   "display_name": "Python 3.7.8 64-bit",
   "language": "python",
   "name": "python3"
  },
  "language_info": {
   "codemirror_mode": {
    "name": "ipython",
    "version": 3
   },
   "file_extension": ".py",
   "mimetype": "text/x-python",
   "name": "python",
   "nbconvert_exporter": "python",
   "pygments_lexer": "ipython3",
   "version": "3.7.8"
  },
  "orig_nbformat": 4
 },
 "nbformat": 4,
 "nbformat_minor": 2
}
